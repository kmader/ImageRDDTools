{
 "cells": [
  {
   "cell_type": "code",
   "execution_count": 1,
   "metadata": {
    "collapsed": false
   },
   "outputs": [
    {
     "data": {
      "text/plain": [
       "defined \u001b[32mclass \u001b[36mtile_id\u001b[0m\n",
       "defined \u001b[32mclass \u001b[36msrc_tile_id\u001b[0m\n",
       "defined \u001b[32mclass \u001b[36mtarget_tile_id\u001b[0m\n",
       "defined \u001b[32mclass \u001b[36mreq_id\u001b[0m"
      ]
     },
     "metadata": {},
     "output_type": "display_data"
    }
   ],
   "source": [
    "case class tile_id(imgID: String, z: Int, x: Int, y:Int)\n",
    "case class src_tile_id(imgID: String, z: Int, x: Int, y:Int)\n",
    "case class target_tile_id(imgID: String, z: Int, x: Int, y:Int)\n",
    "case class req_id(req: String)"
   ]
  },
  {
   "cell_type": "code",
   "execution_count": 2,
   "metadata": {
    "collapsed": false
   },
   "outputs": [
    {
     "data": {
      "text/plain": [
       "\u001b[36mTILE_PER_REQ\u001b[0m: \u001b[32mInt\u001b[0m = \u001b[32m6000\u001b[0m\n",
       "defined \u001b[32mfunction \u001b[36mprocess_request\u001b[0m\n",
       "defined \u001b[32mfunction \u001b[36mfind_tiles\u001b[0m\n",
       "defined \u001b[32mfunction \u001b[36mpartial_tile_ortho\u001b[0m\n",
       "defined \u001b[32mfunction \u001b[36mjoin_partial_tiles\u001b[0m\n",
       "defined \u001b[32mfunction \u001b[36mfull_tile_ortho\u001b[0m"
      ]
     },
     "metadata": {},
     "output_type": "display_data"
    }
   ],
   "source": [
    "val TILE_PER_REQ = 6000\n",
    "def process_request(request: req_id): Seq[target_tile_id] = {\n",
    "    for (i <- 0 to 1; j <- 0 to TILE_PER_REQ)\n",
    "        yield target_tile_id(request.req, 0, i, j)\n",
    "}\n",
    "def find_tiles(out_tile: target_tile_id): Seq[src_tile_id] = {\n",
    "    for (i <- -1 until 1; j <- -1 until 1) yield src_tile_id(out_tile.imgID+\"_old\", out_tile.z, out_tile.x+i, out_tile.y+j)\n",
    "}\n",
    "\n",
    "def partial_tile_ortho(tile_a: src_tile_id, tile_b: target_tile_id): Array[Int] = {\n",
    "    Array.fill[Int](10)(1)\n",
    "}\n",
    "\n",
    "def join_partial_tiles(all_frags: Seq[Array[Int]]): Array[Int] = {\n",
    "    all_frags.reduce{ (a, b) => a.zip(b).map{case (x1, x2) => x1+x2}}\n",
    "}\n",
    "\n",
    "def full_tile_ortho(tile_b: target_tile_id): Array[Int] = {\n",
    "    Array.fill[Int](10)(-1)\n",
    "}"
   ]
  },
  {
   "cell_type": "code",
   "execution_count": 3,
   "metadata": {
    "collapsed": false
   },
   "outputs": [
    {
     "data": {
      "text/plain": [
       "\u001b[36min_list\u001b[0m: \u001b[32mSeq\u001b[0m[\u001b[32mreq_id\u001b[0m] = \u001b[33mList\u001b[0m(\u001b[33mreq_id\u001b[0m(\u001b[32m\"empty\"\u001b[0m))\n",
       "\u001b[36mtarget_list\u001b[0m: \u001b[32mSeq\u001b[0m[(\u001b[32mreq_id\u001b[0m, \u001b[32mtarget_tile_id\u001b[0m)] = \u001b[33mList\u001b[0m(\n",
       "  \u001b[33m\u001b[0m(\u001b[33mreq_id\u001b[0m(\u001b[32m\"empty\"\u001b[0m), \u001b[33mtarget_tile_id\u001b[0m(\u001b[32m\"empty\"\u001b[0m, \u001b[32m0\u001b[0m, \u001b[32m0\u001b[0m, \u001b[32m0\u001b[0m)),\n",
       "  \u001b[33m\u001b[0m(\u001b[33mreq_id\u001b[0m(\u001b[32m\"empty\"\u001b[0m), \u001b[33mtarget_tile_id\u001b[0m(\u001b[32m\"empty\"\u001b[0m, \u001b[32m0\u001b[0m, \u001b[32m0\u001b[0m, \u001b[32m1\u001b[0m)),\n",
       "  \u001b[33m\u001b[0m(\u001b[33mreq_id\u001b[0m(\u001b[32m\"empty\"\u001b[0m), \u001b[33mtarget_tile_id\u001b[0m(\u001b[32m\"empty\"\u001b[0m, \u001b[32m0\u001b[0m, \u001b[32m0\u001b[0m, \u001b[32m2\u001b[0m)),\n",
       "  \u001b[33m\u001b[0m(\u001b[33mreq_id\u001b[0m(\u001b[32m\"empty\"\u001b[0m), \u001b[33mtarget_tile_id\u001b[0m(\u001b[32m\"empty\"\u001b[0m, \u001b[32m0\u001b[0m, \u001b[32m0\u001b[0m, \u001b[32m3\u001b[0m)),\n",
       "  \u001b[33m\u001b[0m(\u001b[33mreq_id\u001b[0m(\u001b[32m\"empty\"\u001b[0m), \u001b[33mtarget_tile_id\u001b[0m(\u001b[32m\"empty\"\u001b[0m, \u001b[32m0\u001b[0m, \u001b[32m0\u001b[0m, \u001b[32m4\u001b[0m)),\n",
       "  \u001b[33m\u001b[0m(\u001b[33mreq_id\u001b[0m(\u001b[32m\"empty\"\u001b[0m), \u001b[33mtarget_tile_id\u001b[0m(\u001b[32m\"empty\"\u001b[0m, \u001b[32m0\u001b[0m, \u001b[32m0\u001b[0m, \u001b[32m5\u001b[0m)),\n",
       "  \u001b[33m\u001b[0m(\u001b[33mreq_id\u001b[0m(\u001b[32m\"empty\"\u001b[0m), \u001b[33mtarget_tile_id\u001b[0m(\u001b[32m\"empty\"\u001b[0m, \u001b[32m0\u001b[0m, \u001b[32m0\u001b[0m, \u001b[32m6\u001b[0m)),\n",
       "  \u001b[33m\u001b[0m(\u001b[33mreq_id\u001b[0m(\u001b[32m\"empty\"\u001b[0m), \u001b[33mtarget_tile_id\u001b[0m(\u001b[32m\"empty\"\u001b[0m, \u001b[32m0\u001b[0m, \u001b[32m0\u001b[0m, \u001b[32m7\u001b[0m)),\n",
       "  \u001b[33m\u001b[0m(\u001b[33mreq_id\u001b[0m(\u001b[32m\"empty\"\u001b[0m), \u001b[33mtarget_tile_id\u001b[0m(\u001b[32m\"empty\"\u001b[0m, \u001b[32m0\u001b[0m, \u001b[32m0\u001b[0m, \u001b[32m8\u001b[0m)),\n",
       "  \u001b[33m\u001b[0m(\u001b[33mreq_id\u001b[0m(\u001b[32m\"empty\"\u001b[0m), \u001b[33mtarget_tile_id\u001b[0m(\u001b[32m\"empty\"\u001b[0m, \u001b[32m0\u001b[0m, \u001b[32m0\u001b[0m, \u001b[32m9\u001b[0m)),\n",
       "  \u001b[33m\u001b[0m(\u001b[33mreq_id\u001b[0m(\u001b[32m\"empty\"\u001b[0m), \u001b[33mtarget_tile_id\u001b[0m(\u001b[32m\"empty\"\u001b[0m, \u001b[32m0\u001b[0m, \u001b[32m0\u001b[0m, \u001b[32m10\u001b[0m)),\n",
       "  \u001b[33m\u001b[0m(\u001b[33mreq_id\u001b[0m(\u001b[32m\"empty\"\u001b[0m), \u001b[33mtarget_tile_id\u001b[0m(\u001b[32m\"empty\"\u001b[0m, \u001b[32m0\u001b[0m, \u001b[32m0\u001b[0m, \u001b[32m11\u001b[0m)),\n",
       "  \u001b[33m\u001b[0m(\u001b[33mreq_id\u001b[0m(\u001b[32m\"empty\"\u001b[0m), \u001b[33mtarget_tile_id\u001b[0m(\u001b[32m\"empty\"\u001b[0m, \u001b[32m0\u001b[0m, \u001b[32m0\u001b[0m, \u001b[32m12\u001b[0m)),\n",
       "  \u001b[33m\u001b[0m(\u001b[33mreq_id\u001b[0m(\u001b[32m\"empty\"\u001b[0m), \u001b[33mtarget_tile_id\u001b[0m(\u001b[32m\"empty\"\u001b[0m, \u001b[32m0\u001b[0m, \u001b[32m0\u001b[0m, \u001b[32m13\u001b[0m)),\n",
       "  \u001b[33m\u001b[0m(\u001b[33mreq_id\u001b[0m(\u001b[32m\"empty\"\u001b[0m), \u001b[33mtarget_tile_id\u001b[0m(\u001b[32m\"empty\"\u001b[0m, \u001b[32m0\u001b[0m, \u001b[32m0\u001b[0m, \u001b[32m14\u001b[0m)),\n",
       "  \u001b[33m\u001b[0m(\u001b[33mreq_id\u001b[0m(\u001b[32m\"empty\"\u001b[0m), \u001b[33mtarget_tile_id\u001b[0m(\u001b[32m\"empty\"\u001b[0m, \u001b[32m0\u001b[0m, \u001b[32m0\u001b[0m, \u001b[32m15\u001b[0m)),\n",
       "  \u001b[33m\u001b[0m(\u001b[33mreq_id\u001b[0m(\u001b[32m\"empty\"\u001b[0m), \u001b[33mtarget_tile_id\u001b[0m(\u001b[32m\"empty\"\u001b[0m, \u001b[32m0\u001b[0m, \u001b[32m0\u001b[0m, \u001b[32m16\u001b[0m)),\n",
       "  \u001b[33m\u001b[0m(\u001b[33mreq_id\u001b[0m(\u001b[32m\"empty\"\u001b[0m), \u001b[33mtarget_tile_id\u001b[0m(\u001b[32m\"empty\"\u001b[0m, \u001b[32m0\u001b[0m, \u001b[32m0\u001b[0m, \u001b[32m17\u001b[0m)),\n",
       "  \u001b[33m\u001b[0m(\u001b[33mreq_id\u001b[0m(\u001b[32m\"empty\"\u001b[0m), \u001b[33mtarget_tile_id\u001b[0m(\u001b[32m\"empty\"\u001b[0m, \u001b[32m0\u001b[0m, \u001b[32m0\u001b[0m, \u001b[32m18\u001b[0m)),\n",
       "\u001b[33m...\u001b[0m\n",
       "\u001b[36msrc_list\u001b[0m: \u001b[32mSeq\u001b[0m[(\u001b[32mreq_id\u001b[0m, \u001b[32mtarget_tile_id\u001b[0m, \u001b[32mSeq\u001b[0m[\u001b[32msrc_tile_id\u001b[0m])] = \u001b[33mList\u001b[0m(\n",
       "  \u001b[33m\u001b[0m(\n",
       "    \u001b[33mreq_id\u001b[0m(\u001b[32m\"empty\"\u001b[0m),\n",
       "    \u001b[33mtarget_tile_id\u001b[0m(\u001b[32m\"empty\"\u001b[0m, \u001b[32m0\u001b[0m, \u001b[32m0\u001b[0m, \u001b[32m0\u001b[0m),\n",
       "    \u001b[33mVector\u001b[0m(\n",
       "      \u001b[33msrc_tile_id\u001b[0m(\u001b[32m\"empty_old\"\u001b[0m, \u001b[32m0\u001b[0m, \u001b[32m-1\u001b[0m, \u001b[32m-1\u001b[0m),\n",
       "      \u001b[33msrc_tile_id\u001b[0m(\u001b[32m\"empty_old\"\u001b[0m, \u001b[32m0\u001b[0m, \u001b[32m-1\u001b[0m, \u001b[32m0\u001b[0m),\n",
       "      \u001b[33msrc_tile_id\u001b[0m(\u001b[32m\"empty_old\"\u001b[0m, \u001b[32m0\u001b[0m, \u001b[32m0\u001b[0m, \u001b[32m-1\u001b[0m),\n",
       "      \u001b[33msrc_tile_id\u001b[0m(\u001b[32m\"empty_old\"\u001b[0m, \u001b[32m0\u001b[0m, \u001b[32m0\u001b[0m, \u001b[32m0\u001b[0m)\n",
       "    )\n",
       "  ),\n",
       "  \u001b[33m\u001b[0m(\n",
       "    \u001b[33mreq_id\u001b[0m(\u001b[32m\"empty\"\u001b[0m),\n",
       "    \u001b[33mtarget_tile_id\u001b[0m(\u001b[32m\"empty\"\u001b[0m, \u001b[32m0\u001b[0m, \u001b[32m0\u001b[0m, \u001b[32m1\u001b[0m),\n",
       "    \u001b[33mVector\u001b[0m(\n",
       "      \u001b[33msrc_tile_id\u001b[0m(\u001b[32m\"empty_old\"\u001b[0m, \u001b[32m0\u001b[0m, \u001b[32m-1\u001b[0m, \u001b[32m0\u001b[0m),\n",
       "      \u001b[33msrc_tile_id\u001b[0m(\u001b[32m\"empty_old\"\u001b[0m, \u001b[32m0\u001b[0m, \u001b[32m-1\u001b[0m, \u001b[32m1\u001b[0m),\n",
       "      \u001b[33msrc_tile_id\u001b[0m(\u001b[32m\"empty_old\"\u001b[0m, \u001b[32m0\u001b[0m, \u001b[32m0\u001b[0m, \u001b[32m0\u001b[0m),\n",
       "      \u001b[33msrc_tile_id\u001b[0m(\u001b[32m\"empty_old\"\u001b[0m, \u001b[32m0\u001b[0m, \u001b[32m0\u001b[0m, \u001b[32m1\u001b[0m)\n",
       "    )\n",
       "\u001b[33m...\u001b[0m"
      ]
     },
     "metadata": {},
     "output_type": "display_data"
    }
   ],
   "source": [
    "val in_list = Seq(req_id(\"empty\"))\n",
    "val target_list = in_list.flatMap(x => for (y <- process_request(x)) yield (x,y))\n",
    "val src_list = target_list.map(x => (x._1, x._2, find_tiles(x._2)))"
   ]
  },
  {
   "cell_type": "code",
   "execution_count": 4,
   "metadata": {
    "collapsed": false
   },
   "outputs": [
    {
     "data": {
      "text/plain": [
       "\u001b[36mgroup_src_list\u001b[0m: \u001b[32mSeq\u001b[0m[(\u001b[32msrc_tile_id\u001b[0m, \u001b[32mSeq\u001b[0m[(\u001b[32mreq_id\u001b[0m, \u001b[32mtarget_tile_id\u001b[0m)])] = \u001b[33mArrayBuffer\u001b[0m(\n",
       "  \u001b[33m\u001b[0m(\n",
       "    \u001b[33msrc_tile_id\u001b[0m(\u001b[32m\"empty_old\"\u001b[0m, \u001b[32m0\u001b[0m, \u001b[32m-1\u001b[0m, \u001b[32m4713\u001b[0m),\n",
       "    \u001b[33mList\u001b[0m(\n",
       "      \u001b[33m\u001b[0m(\u001b[33mreq_id\u001b[0m(\u001b[32m\"empty\"\u001b[0m), \u001b[33mtarget_tile_id\u001b[0m(\u001b[32m\"empty\"\u001b[0m, \u001b[32m0\u001b[0m, \u001b[32m0\u001b[0m, \u001b[32m4713\u001b[0m)),\n",
       "      \u001b[33m\u001b[0m(\u001b[33mreq_id\u001b[0m(\u001b[32m\"empty\"\u001b[0m), \u001b[33mtarget_tile_id\u001b[0m(\u001b[32m\"empty\"\u001b[0m, \u001b[32m0\u001b[0m, \u001b[32m0\u001b[0m, \u001b[32m4714\u001b[0m))\n",
       "    )\n",
       "  ),\n",
       "  \u001b[33m\u001b[0m(\n",
       "    \u001b[33msrc_tile_id\u001b[0m(\u001b[32m\"empty_old\"\u001b[0m, \u001b[32m0\u001b[0m, \u001b[32m-1\u001b[0m, \u001b[32m211\u001b[0m),\n",
       "    \u001b[33mList\u001b[0m(\n",
       "      \u001b[33m\u001b[0m(\u001b[33mreq_id\u001b[0m(\u001b[32m\"empty\"\u001b[0m), \u001b[33mtarget_tile_id\u001b[0m(\u001b[32m\"empty\"\u001b[0m, \u001b[32m0\u001b[0m, \u001b[32m0\u001b[0m, \u001b[32m211\u001b[0m)),\n",
       "      \u001b[33m\u001b[0m(\u001b[33mreq_id\u001b[0m(\u001b[32m\"empty\"\u001b[0m), \u001b[33mtarget_tile_id\u001b[0m(\u001b[32m\"empty\"\u001b[0m, \u001b[32m0\u001b[0m, \u001b[32m0\u001b[0m, \u001b[32m212\u001b[0m))\n",
       "    )\n",
       "  ),\n",
       "  \u001b[33m\u001b[0m(\n",
       "    \u001b[33msrc_tile_id\u001b[0m(\u001b[32m\"empty_old\"\u001b[0m, \u001b[32m0\u001b[0m, \u001b[32m-1\u001b[0m, \u001b[32m5411\u001b[0m),\n",
       "    \u001b[33mList\u001b[0m(\n",
       "      \u001b[33m\u001b[0m(\u001b[33mreq_id\u001b[0m(\u001b[32m\"empty\"\u001b[0m), \u001b[33mtarget_tile_id\u001b[0m(\u001b[32m\"empty\"\u001b[0m, \u001b[32m0\u001b[0m, \u001b[32m0\u001b[0m, \u001b[32m5411\u001b[0m)),\n",
       "      \u001b[33m\u001b[0m(\u001b[33mreq_id\u001b[0m(\u001b[32m\"empty\"\u001b[0m), \u001b[33mtarget_tile_id\u001b[0m(\u001b[32m\"empty\"\u001b[0m, \u001b[32m0\u001b[0m, \u001b[32m0\u001b[0m, \u001b[32m5412\u001b[0m))\n",
       "\u001b[33m...\u001b[0m\n",
       "\u001b[36mpartial_tile_list\u001b[0m: \u001b[32mSeq\u001b[0m[((\u001b[32mreq_id\u001b[0m, \u001b[32mtarget_tile_id\u001b[0m), \u001b[32mArray\u001b[0m[\u001b[32mInt\u001b[0m])] = \u001b[33mArrayBuffer\u001b[0m(\n",
       "  \u001b[33m\u001b[0m(\n",
       "    \u001b[33m\u001b[0m(\u001b[33mreq_id\u001b[0m(\u001b[32m\"empty\"\u001b[0m), \u001b[33mtarget_tile_id\u001b[0m(\u001b[32m\"empty\"\u001b[0m, \u001b[32m0\u001b[0m, \u001b[32m0\u001b[0m, \u001b[32m4713\u001b[0m)),\n",
       "    \u001b[33mArray\u001b[0m(\u001b[32m1\u001b[0m, \u001b[32m1\u001b[0m, \u001b[32m1\u001b[0m, \u001b[32m1\u001b[0m, \u001b[32m1\u001b[0m, \u001b[32m1\u001b[0m, \u001b[32m1\u001b[0m, \u001b[32m1\u001b[0m, \u001b[32m1\u001b[0m, \u001b[32m1\u001b[0m)\n",
       "  ),\n",
       "  \u001b[33m\u001b[0m(\n",
       "    \u001b[33m\u001b[0m(\u001b[33mreq_id\u001b[0m(\u001b[32m\"empty\"\u001b[0m), \u001b[33mtarget_tile_id\u001b[0m(\u001b[32m\"empty\"\u001b[0m, \u001b[32m0\u001b[0m, \u001b[32m0\u001b[0m, \u001b[32m4714\u001b[0m)),\n",
       "    \u001b[33mArray\u001b[0m(\u001b[32m1\u001b[0m, \u001b[32m1\u001b[0m, \u001b[32m1\u001b[0m, \u001b[32m1\u001b[0m, \u001b[32m1\u001b[0m, \u001b[32m1\u001b[0m, \u001b[32m1\u001b[0m, \u001b[32m1\u001b[0m, \u001b[32m1\u001b[0m, \u001b[32m1\u001b[0m)\n",
       "  ),\n",
       "  \u001b[33m\u001b[0m(\n",
       "    \u001b[33m\u001b[0m(\u001b[33mreq_id\u001b[0m(\u001b[32m\"empty\"\u001b[0m), \u001b[33mtarget_tile_id\u001b[0m(\u001b[32m\"empty\"\u001b[0m, \u001b[32m0\u001b[0m, \u001b[32m0\u001b[0m, \u001b[32m211\u001b[0m)),\n",
       "    \u001b[33mArray\u001b[0m(\u001b[32m1\u001b[0m, \u001b[32m1\u001b[0m, \u001b[32m1\u001b[0m, \u001b[32m1\u001b[0m, \u001b[32m1\u001b[0m, \u001b[32m1\u001b[0m, \u001b[32m1\u001b[0m, \u001b[32m1\u001b[0m, \u001b[32m1\u001b[0m, \u001b[32m1\u001b[0m)\n",
       "  ),\n",
       "  \u001b[33m\u001b[0m(\n",
       "    \u001b[33m\u001b[0m(\u001b[33mreq_id\u001b[0m(\u001b[32m\"empty\"\u001b[0m), \u001b[33mtarget_tile_id\u001b[0m(\u001b[32m\"empty\"\u001b[0m, \u001b[32m0\u001b[0m, \u001b[32m0\u001b[0m, \u001b[32m212\u001b[0m)),\n",
       "    \u001b[33mArray\u001b[0m(\u001b[32m1\u001b[0m, \u001b[32m1\u001b[0m, \u001b[32m1\u001b[0m, \u001b[32m1\u001b[0m, \u001b[32m1\u001b[0m, \u001b[32m1\u001b[0m, \u001b[32m1\u001b[0m, \u001b[32m1\u001b[0m, \u001b[32m1\u001b[0m, \u001b[32m1\u001b[0m)\n",
       "  ),\n",
       "  \u001b[33m\u001b[0m(\n",
       "    \u001b[33m\u001b[0m(\u001b[33mreq_id\u001b[0m(\u001b[32m\"empty\"\u001b[0m), \u001b[33mtarget_tile_id\u001b[0m(\u001b[32m\"empty\"\u001b[0m, \u001b[32m0\u001b[0m, \u001b[32m0\u001b[0m, \u001b[32m5411\u001b[0m)),\n",
       "    \u001b[33mArray\u001b[0m(\u001b[32m1\u001b[0m, \u001b[32m1\u001b[0m, \u001b[32m1\u001b[0m, \u001b[32m1\u001b[0m, \u001b[32m1\u001b[0m, \u001b[32m1\u001b[0m, \u001b[32m1\u001b[0m, \u001b[32m1\u001b[0m, \u001b[32m1\u001b[0m, \u001b[32m1\u001b[0m)\n",
       "\u001b[33m...\u001b[0m\n",
       "\u001b[36mcombine_tiles\u001b[0m: \u001b[32mSeq\u001b[0m[((\u001b[32mreq_id\u001b[0m, \u001b[32mtarget_tile_id\u001b[0m), \u001b[32mArray\u001b[0m[\u001b[32mInt\u001b[0m])] = \u001b[33mArrayBuffer\u001b[0m(\n",
       "  \u001b[33m\u001b[0m(\n",
       "    \u001b[33m\u001b[0m(\u001b[33mreq_id\u001b[0m(\u001b[32m\"empty\"\u001b[0m), \u001b[33mtarget_tile_id\u001b[0m(\u001b[32m\"empty\"\u001b[0m, \u001b[32m0\u001b[0m, \u001b[32m1\u001b[0m, \u001b[32m2223\u001b[0m)),\n",
       "    \u001b[33mArray\u001b[0m(\u001b[32m4\u001b[0m, \u001b[32m4\u001b[0m, \u001b[32m4\u001b[0m, \u001b[32m4\u001b[0m, \u001b[32m4\u001b[0m, \u001b[32m4\u001b[0m, \u001b[32m4\u001b[0m, \u001b[32m4\u001b[0m, \u001b[32m4\u001b[0m, \u001b[32m4\u001b[0m)\n",
       "  ),\n",
       "  \u001b[33m\u001b[0m(\n",
       "    \u001b[33m\u001b[0m(\u001b[33mreq_id\u001b[0m(\u001b[32m\"empty\"\u001b[0m), \u001b[33mtarget_tile_id\u001b[0m(\u001b[32m\"empty\"\u001b[0m, \u001b[32m0\u001b[0m, \u001b[32m0\u001b[0m, \u001b[32m2097\u001b[0m)),\n",
       "    \u001b[33mArray\u001b[0m(\u001b[32m4\u001b[0m, \u001b[32m4\u001b[0m, \u001b[32m4\u001b[0m, \u001b[32m4\u001b[0m, \u001b[32m4\u001b[0m, \u001b[32m4\u001b[0m, \u001b[32m4\u001b[0m, \u001b[32m4\u001b[0m, \u001b[32m4\u001b[0m, \u001b[32m4\u001b[0m)\n",
       "  ),\n",
       "  \u001b[33m\u001b[0m(\n",
       "    \u001b[33m\u001b[0m(\u001b[33mreq_id\u001b[0m(\u001b[32m\"empty\"\u001b[0m), \u001b[33mtarget_tile_id\u001b[0m(\u001b[32m\"empty\"\u001b[0m, \u001b[32m0\u001b[0m, \u001b[32m0\u001b[0m, \u001b[32m2425\u001b[0m)),\n",
       "    \u001b[33mArray\u001b[0m(\u001b[32m4\u001b[0m, \u001b[32m4\u001b[0m, \u001b[32m4\u001b[0m, \u001b[32m4\u001b[0m, \u001b[32m4\u001b[0m, \u001b[32m4\u001b[0m, \u001b[32m4\u001b[0m, \u001b[32m4\u001b[0m, \u001b[32m4\u001b[0m, \u001b[32m4\u001b[0m)\n",
       "  ),\n",
       "  \u001b[33m\u001b[0m(\n",
       "    \u001b[33m\u001b[0m(\u001b[33mreq_id\u001b[0m(\u001b[32m\"empty\"\u001b[0m), \u001b[33mtarget_tile_id\u001b[0m(\u001b[32m\"empty\"\u001b[0m, \u001b[32m0\u001b[0m, \u001b[32m0\u001b[0m, \u001b[32m5574\u001b[0m)),\n",
       "    \u001b[33mArray\u001b[0m(\u001b[32m4\u001b[0m, \u001b[32m4\u001b[0m, \u001b[32m4\u001b[0m, \u001b[32m4\u001b[0m, \u001b[32m4\u001b[0m, \u001b[32m4\u001b[0m, \u001b[32m4\u001b[0m, \u001b[32m4\u001b[0m, \u001b[32m4\u001b[0m, \u001b[32m4\u001b[0m)\n",
       "  ),\n",
       "  \u001b[33m\u001b[0m(\n",
       "    \u001b[33m\u001b[0m(\u001b[33mreq_id\u001b[0m(\u001b[32m\"empty\"\u001b[0m), \u001b[33mtarget_tile_id\u001b[0m(\u001b[32m\"empty\"\u001b[0m, \u001b[32m0\u001b[0m, \u001b[32m1\u001b[0m, \u001b[32m2345\u001b[0m)),\n",
       "    \u001b[33mArray\u001b[0m(\u001b[32m4\u001b[0m, \u001b[32m4\u001b[0m, \u001b[32m4\u001b[0m, \u001b[32m4\u001b[0m, \u001b[32m4\u001b[0m, \u001b[32m4\u001b[0m, \u001b[32m4\u001b[0m, \u001b[32m4\u001b[0m, \u001b[32m4\u001b[0m, \u001b[32m4\u001b[0m)\n",
       "\u001b[33m...\u001b[0m"
      ]
     },
     "metadata": {},
     "output_type": "display_data"
    }
   ],
   "source": [
    "// Partial Fragment Approach\n",
    "val group_src_list = src_list.\n",
    "    flatMap{ case (req, targ, srcs) => for (src <- srcs) yield (src, (req, targ))}.\n",
    "    groupBy(_._1).\n",
    "    mapValues(_.map(_._2)). // remove the extra entry from the value (src_tile_id)\n",
    "    toSeq \n",
    "\n",
    "val partial_tile_list = group_src_list.\n",
    "    flatMap{ case (src, t_list) => for( (req, targ) <- t_list) yield ( (req, targ), partial_tile_ortho(src, targ))}\n",
    "\n",
    "val combine_tiles = partial_tile_list.\n",
    "    groupBy(_._1).\n",
    "    mapValues(_.map(_._2)).// remove the extra entry from the value (src_tile_id)\n",
    "    mapValues( tiles => join_partial_tiles(tiles.toSeq)).toSeq"
   ]
  },
  {
   "cell_type": "code",
   "execution_count": 5,
   "metadata": {
    "collapsed": false
   },
   "outputs": [
    {
     "data": {
      "text/plain": [
       "\u001b[36mgrouped_tiles\u001b[0m: \u001b[32mMap\u001b[0m[\u001b[32mreq_id\u001b[0m, \u001b[32mSeq\u001b[0m[(\u001b[32mtarget_tile_id\u001b[0m, \u001b[32mArray\u001b[0m[\u001b[32mInt\u001b[0m])]] = \u001b[33mMap\u001b[0m(\n",
       "  \u001b[33mreq_id\u001b[0m(\u001b[32m\"empty\"\u001b[0m) -> \u001b[33mArrayBuffer\u001b[0m(\n",
       "    \u001b[33m\u001b[0m(\u001b[33mtarget_tile_id\u001b[0m(\u001b[32m\"empty\"\u001b[0m, \u001b[32m0\u001b[0m, \u001b[32m1\u001b[0m, \u001b[32m2223\u001b[0m), \u001b[33mArray\u001b[0m(\u001b[32m4\u001b[0m, \u001b[32m4\u001b[0m, \u001b[32m4\u001b[0m, \u001b[32m4\u001b[0m, \u001b[32m4\u001b[0m, \u001b[32m4\u001b[0m, \u001b[32m4\u001b[0m, \u001b[32m4\u001b[0m, \u001b[32m4\u001b[0m, \u001b[32m4\u001b[0m)),\n",
       "    \u001b[33m\u001b[0m(\u001b[33mtarget_tile_id\u001b[0m(\u001b[32m\"empty\"\u001b[0m, \u001b[32m0\u001b[0m, \u001b[32m0\u001b[0m, \u001b[32m2097\u001b[0m), \u001b[33mArray\u001b[0m(\u001b[32m4\u001b[0m, \u001b[32m4\u001b[0m, \u001b[32m4\u001b[0m, \u001b[32m4\u001b[0m, \u001b[32m4\u001b[0m, \u001b[32m4\u001b[0m, \u001b[32m4\u001b[0m, \u001b[32m4\u001b[0m, \u001b[32m4\u001b[0m, \u001b[32m4\u001b[0m)),\n",
       "    \u001b[33m\u001b[0m(\u001b[33mtarget_tile_id\u001b[0m(\u001b[32m\"empty\"\u001b[0m, \u001b[32m0\u001b[0m, \u001b[32m0\u001b[0m, \u001b[32m2425\u001b[0m), \u001b[33mArray\u001b[0m(\u001b[32m4\u001b[0m, \u001b[32m4\u001b[0m, \u001b[32m4\u001b[0m, \u001b[32m4\u001b[0m, \u001b[32m4\u001b[0m, \u001b[32m4\u001b[0m, \u001b[32m4\u001b[0m, \u001b[32m4\u001b[0m, \u001b[32m4\u001b[0m, \u001b[32m4\u001b[0m)),\n",
       "    \u001b[33m\u001b[0m(\u001b[33mtarget_tile_id\u001b[0m(\u001b[32m\"empty\"\u001b[0m, \u001b[32m0\u001b[0m, \u001b[32m0\u001b[0m, \u001b[32m5574\u001b[0m), \u001b[33mArray\u001b[0m(\u001b[32m4\u001b[0m, \u001b[32m4\u001b[0m, \u001b[32m4\u001b[0m, \u001b[32m4\u001b[0m, \u001b[32m4\u001b[0m, \u001b[32m4\u001b[0m, \u001b[32m4\u001b[0m, \u001b[32m4\u001b[0m, \u001b[32m4\u001b[0m, \u001b[32m4\u001b[0m)),\n",
       "    \u001b[33m\u001b[0m(\u001b[33mtarget_tile_id\u001b[0m(\u001b[32m\"empty\"\u001b[0m, \u001b[32m0\u001b[0m, \u001b[32m1\u001b[0m, \u001b[32m2345\u001b[0m), \u001b[33mArray\u001b[0m(\u001b[32m4\u001b[0m, \u001b[32m4\u001b[0m, \u001b[32m4\u001b[0m, \u001b[32m4\u001b[0m, \u001b[32m4\u001b[0m, \u001b[32m4\u001b[0m, \u001b[32m4\u001b[0m, \u001b[32m4\u001b[0m, \u001b[32m4\u001b[0m, \u001b[32m4\u001b[0m)),\n",
       "    \u001b[33m\u001b[0m(\u001b[33mtarget_tile_id\u001b[0m(\u001b[32m\"empty\"\u001b[0m, \u001b[32m0\u001b[0m, \u001b[32m0\u001b[0m, \u001b[32m3310\u001b[0m), \u001b[33mArray\u001b[0m(\u001b[32m4\u001b[0m, \u001b[32m4\u001b[0m, \u001b[32m4\u001b[0m, \u001b[32m4\u001b[0m, \u001b[32m4\u001b[0m, \u001b[32m4\u001b[0m, \u001b[32m4\u001b[0m, \u001b[32m4\u001b[0m, \u001b[32m4\u001b[0m, \u001b[32m4\u001b[0m)),\n",
       "    \u001b[33m\u001b[0m(\u001b[33mtarget_tile_id\u001b[0m(\u001b[32m\"empty\"\u001b[0m, \u001b[32m0\u001b[0m, \u001b[32m0\u001b[0m, \u001b[32m3542\u001b[0m), \u001b[33mArray\u001b[0m(\u001b[32m4\u001b[0m, \u001b[32m4\u001b[0m, \u001b[32m4\u001b[0m, \u001b[32m4\u001b[0m, \u001b[32m4\u001b[0m, \u001b[32m4\u001b[0m, \u001b[32m4\u001b[0m, \u001b[32m4\u001b[0m, \u001b[32m4\u001b[0m, \u001b[32m4\u001b[0m)),\n",
       "    \u001b[33m\u001b[0m(\u001b[33mtarget_tile_id\u001b[0m(\u001b[32m\"empty\"\u001b[0m, \u001b[32m0\u001b[0m, \u001b[32m0\u001b[0m, \u001b[32m5821\u001b[0m), \u001b[33mArray\u001b[0m(\u001b[32m4\u001b[0m, \u001b[32m4\u001b[0m, \u001b[32m4\u001b[0m, \u001b[32m4\u001b[0m, \u001b[32m4\u001b[0m, \u001b[32m4\u001b[0m, \u001b[32m4\u001b[0m, \u001b[32m4\u001b[0m, \u001b[32m4\u001b[0m, \u001b[32m4\u001b[0m)),\n",
       "    \u001b[33m\u001b[0m(\u001b[33mtarget_tile_id\u001b[0m(\u001b[32m\"empty\"\u001b[0m, \u001b[32m0\u001b[0m, \u001b[32m0\u001b[0m, \u001b[32m4058\u001b[0m), \u001b[33mArray\u001b[0m(\u001b[32m4\u001b[0m, \u001b[32m4\u001b[0m, \u001b[32m4\u001b[0m, \u001b[32m4\u001b[0m, \u001b[32m4\u001b[0m, \u001b[32m4\u001b[0m, \u001b[32m4\u001b[0m, \u001b[32m4\u001b[0m, \u001b[32m4\u001b[0m, \u001b[32m4\u001b[0m)),\n",
       "    \u001b[33m\u001b[0m(\u001b[33mtarget_tile_id\u001b[0m(\u001b[32m\"empty\"\u001b[0m, \u001b[32m0\u001b[0m, \u001b[32m1\u001b[0m, \u001b[32m1323\u001b[0m), \u001b[33mArray\u001b[0m(\u001b[32m4\u001b[0m, \u001b[32m4\u001b[0m, \u001b[32m4\u001b[0m, \u001b[32m4\u001b[0m, \u001b[32m4\u001b[0m, \u001b[32m4\u001b[0m, \u001b[32m4\u001b[0m, \u001b[32m4\u001b[0m, \u001b[32m4\u001b[0m, \u001b[32m4\u001b[0m)),\n",
       "    \u001b[33m\u001b[0m(\u001b[33mtarget_tile_id\u001b[0m(\u001b[32m\"empty\"\u001b[0m, \u001b[32m0\u001b[0m, \u001b[32m1\u001b[0m, \u001b[32m1385\u001b[0m), \u001b[33mArray\u001b[0m(\u001b[32m4\u001b[0m, \u001b[32m4\u001b[0m, \u001b[32m4\u001b[0m, \u001b[32m4\u001b[0m, \u001b[32m4\u001b[0m, \u001b[32m4\u001b[0m, \u001b[32m4\u001b[0m, \u001b[32m4\u001b[0m, \u001b[32m4\u001b[0m, \u001b[32m4\u001b[0m)),\n",
       "    \u001b[33m\u001b[0m(\u001b[33mtarget_tile_id\u001b[0m(\u001b[32m\"empty\"\u001b[0m, \u001b[32m0\u001b[0m, \u001b[32m0\u001b[0m, \u001b[32m5209\u001b[0m), \u001b[33mArray\u001b[0m(\u001b[32m4\u001b[0m, \u001b[32m4\u001b[0m, \u001b[32m4\u001b[0m, \u001b[32m4\u001b[0m, \u001b[32m4\u001b[0m, \u001b[32m4\u001b[0m, \u001b[32m4\u001b[0m, \u001b[32m4\u001b[0m, \u001b[32m4\u001b[0m, \u001b[32m4\u001b[0m)),\n",
       "    \u001b[33m\u001b[0m(\u001b[33mtarget_tile_id\u001b[0m(\u001b[32m\"empty\"\u001b[0m, \u001b[32m0\u001b[0m, \u001b[32m1\u001b[0m, \u001b[32m3514\u001b[0m), \u001b[33mArray\u001b[0m(\u001b[32m4\u001b[0m, \u001b[32m4\u001b[0m, \u001b[32m4\u001b[0m, \u001b[32m4\u001b[0m, \u001b[32m4\u001b[0m, \u001b[32m4\u001b[0m, \u001b[32m4\u001b[0m, \u001b[32m4\u001b[0m, \u001b[32m4\u001b[0m, \u001b[32m4\u001b[0m)),\n",
       "    \u001b[33m\u001b[0m(\u001b[33mtarget_tile_id\u001b[0m(\u001b[32m\"empty\"\u001b[0m, \u001b[32m0\u001b[0m, \u001b[32m0\u001b[0m, \u001b[32m4966\u001b[0m), \u001b[33mArray\u001b[0m(\u001b[32m4\u001b[0m, \u001b[32m4\u001b[0m, \u001b[32m4\u001b[0m, \u001b[32m4\u001b[0m, \u001b[32m4\u001b[0m, \u001b[32m4\u001b[0m, \u001b[32m4\u001b[0m, \u001b[32m4\u001b[0m, \u001b[32m4\u001b[0m, \u001b[32m4\u001b[0m)),\n",
       "    \u001b[33m\u001b[0m(\u001b[33mtarget_tile_id\u001b[0m(\u001b[32m\"empty\"\u001b[0m, \u001b[32m0\u001b[0m, \u001b[32m1\u001b[0m, \u001b[32m2484\u001b[0m), \u001b[33mArray\u001b[0m(\u001b[32m4\u001b[0m, \u001b[32m4\u001b[0m, \u001b[32m4\u001b[0m, \u001b[32m4\u001b[0m, \u001b[32m4\u001b[0m, \u001b[32m4\u001b[0m, \u001b[32m4\u001b[0m, \u001b[32m4\u001b[0m, \u001b[32m4\u001b[0m, \u001b[32m4\u001b[0m)),\n",
       "    \u001b[33m\u001b[0m(\u001b[33mtarget_tile_id\u001b[0m(\u001b[32m\"empty\"\u001b[0m, \u001b[32m0\u001b[0m, \u001b[32m0\u001b[0m, \u001b[32m2367\u001b[0m), \u001b[33mArray\u001b[0m(\u001b[32m4\u001b[0m, \u001b[32m4\u001b[0m, \u001b[32m4\u001b[0m, \u001b[32m4\u001b[0m, \u001b[32m4\u001b[0m, \u001b[32m4\u001b[0m, \u001b[32m4\u001b[0m, \u001b[32m4\u001b[0m, \u001b[32m4\u001b[0m, \u001b[32m4\u001b[0m)),\n",
       "    \u001b[33m\u001b[0m(\u001b[33mtarget_tile_id\u001b[0m(\u001b[32m\"empty\"\u001b[0m, \u001b[32m0\u001b[0m, \u001b[32m0\u001b[0m, \u001b[32m3830\u001b[0m), \u001b[33mArray\u001b[0m(\u001b[32m4\u001b[0m, \u001b[32m4\u001b[0m, \u001b[32m4\u001b[0m, \u001b[32m4\u001b[0m, \u001b[32m4\u001b[0m, \u001b[32m4\u001b[0m, \u001b[32m4\u001b[0m, \u001b[32m4\u001b[0m, \u001b[32m4\u001b[0m, \u001b[32m4\u001b[0m)),\n",
       "    \u001b[33m\u001b[0m(\u001b[33mtarget_tile_id\u001b[0m(\u001b[32m\"empty\"\u001b[0m, \u001b[32m0\u001b[0m, \u001b[32m1\u001b[0m, \u001b[32m5276\u001b[0m), \u001b[33mArray\u001b[0m(\u001b[32m4\u001b[0m, \u001b[32m4\u001b[0m, \u001b[32m4\u001b[0m, \u001b[32m4\u001b[0m, \u001b[32m4\u001b[0m, \u001b[32m4\u001b[0m, \u001b[32m4\u001b[0m, \u001b[32m4\u001b[0m, \u001b[32m4\u001b[0m, \u001b[32m4\u001b[0m)),\n",
       "\u001b[33m...\u001b[0m"
      ]
     },
     "metadata": {},
     "output_type": "display_data"
    }
   ],
   "source": [
    "val grouped_tiles = combine_tiles.\n",
    "    map{ case ((req, targ), tile_data) => (req, (targ, tile_data))}.\n",
    "    groupBy(_._1).\n",
    "    mapValues(_.map(_._2)) // remove the extra entry from the value (src_tile_id)"
   ]
  },
  {
   "cell_type": "code",
   "execution_count": 46,
   "metadata": {
    "collapsed": false
   },
   "outputs": [
    {
     "data": {
      "text/plain": [
       "\u001b[36mres45\u001b[0m: \u001b[32mSeq\u001b[0m[(\u001b[32mreq_id\u001b[0m, \u001b[32mArray\u001b[0m[\u001b[32mInt\u001b[0m])] = \u001b[33mArrayBuffer\u001b[0m(\u001b[33m\u001b[0m(\u001b[33mreq_id\u001b[0m(\u001b[32m\"empty\"\u001b[0m), \u001b[33mArray\u001b[0m(\u001b[32m16\u001b[0m, \u001b[32m16\u001b[0m, \u001b[32m16\u001b[0m, \u001b[32m16\u001b[0m, \u001b[32m16\u001b[0m, \u001b[32m16\u001b[0m, \u001b[32m16\u001b[0m, \u001b[32m16\u001b[0m, \u001b[32m16\u001b[0m, \u001b[32m16\u001b[0m)))"
      ]
     },
     "metadata": {},
     "output_type": "display_data"
    }
   ],
   "source": [
    "grouped_tiles.toSeq.\n",
    "    map{ case (req, tiles) => (req, join_partial_tiles(tiles.map(_._2).toSeq))}"
   ]
  },
  {
   "cell_type": "code",
   "execution_count": 5,
   "metadata": {
    "collapsed": false
   },
   "outputs": [
    {
     "ename": "",
     "evalue": "",
     "output_type": "error",
     "traceback": [
      "\u001b[31mMain.scala:24: not found: value True",
      "if (5>6) True else False ",
      "         ^\u001b[0m",
      "\u001b[31mMain.scala:24: not found: value False",
      "if (5>6) True else False ",
      "                   ^\u001b[0m"
     ]
    }
   ],
   "source": [
    "val outVar = if (5>6) True else False"
   ]
  },
  {
   "cell_type": "code",
   "execution_count": null,
   "metadata": {
    "collapsed": true
   },
   "outputs": [],
   "source": []
  }
 ],
 "metadata": {
  "kernelspec": {
   "display_name": "Scala 2.11",
   "language": "scala211",
   "name": "scala211"
  },
  "language_info": {
   "codemirror_mode": "text/x-scala",
   "file_extension": ".scala",
   "mimetype": "text/x-scala",
   "name": "scala211",
   "pygments_lexer": "scala",
   "version": "2.11.8"
  }
 },
 "nbformat": 4,
 "nbformat_minor": 1
}
